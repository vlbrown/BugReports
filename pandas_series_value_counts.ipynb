{
 "cells": [
  {
   "cell_type": "markdown",
   "metadata": {},
   "source": [
    "I ran into an unexpected oddity using pandas.Series.value_counts(). APparently, it doesn;t always return the length of the counted series returned. \n",
    "\n",
    "It does for 66 values; it doesn;t for 43. I'm guessing it makes the detemination at 50?\n",
    "\n",
    "This seems non-intuitive. Why not always return the length?"
   ]
  },
  {
   "cell_type": "code",
   "execution_count": 2,
   "metadata": {},
   "outputs": [],
   "source": [
    "import pandas as pd"
   ]
  },
  {
   "cell_type": "code",
   "execution_count": 3,
   "metadata": {},
   "outputs": [],
   "source": [
    "df = pd.read_csv('pandas_series_value_counts.csv', \n",
    "                    header=0, \n",
    "                    parse_dates=['Date'],\n",
    "                    dtype={'Station Number' : str}\n",
    "                    )\n"
   ]
  },
  {
   "cell_type": "code",
   "execution_count": 4,
   "metadata": {},
   "outputs": [
    {
     "name": "stdout",
     "output_type": "stream",
     "text": [
      "<class 'pandas.core.frame.DataFrame'>\n",
      "RangeIndex: 99 entries, 0 to 98\n",
      "Data columns (total 5 columns):\n",
      "Date              99 non-null datetime64[ns]\n",
      "Station Number    99 non-null object\n",
      "Depth             99 non-null float64\n",
      "Salinity          99 non-null float64\n",
      "Temperature       99 non-null float64\n",
      "dtypes: datetime64[ns](1), float64(3), object(1)\n",
      "memory usage: 4.0+ KB\n"
     ]
    }
   ],
   "source": [
    "df.info()\n"
   ]
  },
  {
   "cell_type": "code",
   "execution_count": 5,
   "metadata": {},
   "outputs": [],
   "source": [
    "dt = df['Date']\n",
    "dt_counts = dt.value_counts()\n",
    "\n",
    "st = df['Station Number']\n",
    "st_counts = st.value_counts()\n",
    "\n",
    "dp = df['Depth']\n",
    "dp_counts = dp.value_counts()\n",
    "\n",
    "sa = df['Salinity']\n",
    "sa_counts = sa.value_counts()\n",
    "\n",
    "tm = df['Temperature']\n",
    "tm_counts = tm.value_counts()\n"
   ]
  },
  {
   "cell_type": "code",
   "execution_count": 6,
   "metadata": {},
   "outputs": [
    {
     "data": {
      "text/plain": [
       "1969-04-22    12\n",
       "1969-04-23    11\n",
       "1969-04-24     8\n",
       "1969-04-18     8\n",
       "1969-04-17     7\n",
       "1969-04-21     7\n",
       "1969-04-14     6\n",
       "1969-04-19     6\n",
       "1969-04-15     6\n",
       "1969-04-13     6\n",
       "1969-04-16     5\n",
       "1969-04-12     4\n",
       "1969-04-20     4\n",
       "1969-04-10     3\n",
       "1969-04-25     3\n",
       "1969-04-11     3\n",
       "Name: Date, dtype: int64"
      ]
     },
     "execution_count": 6,
     "metadata": {},
     "output_type": "execute_result"
    }
   ],
   "source": [
    "dt_counts"
   ]
  },
  {
   "cell_type": "code",
   "execution_count": 7,
   "metadata": {
    "scrolled": true
   },
   "outputs": [
    {
     "data": {
      "text/plain": [
       "7     10\n",
       "6      9\n",
       "8      8\n",
       "14     5\n",
       "18     5\n",
       "11     5\n",
       "17     5\n",
       "19     5\n",
       "15     5\n",
       "20     5\n",
       "10     5\n",
       "12     5\n",
       "9      5\n",
       "13     5\n",
       "16     5\n",
       "21     4\n",
       "5      4\n",
       "4      4\n",
       "Name: Station Number, dtype: int64"
      ]
     },
     "execution_count": 7,
     "metadata": {},
     "output_type": "execute_result"
    }
   ],
   "source": [
    "st_counts"
   ]
  },
  {
   "cell_type": "code",
   "execution_count": 8,
   "metadata": {
    "scrolled": true
   },
   "outputs": [
    {
     "data": {
      "text/plain": [
       "4.0     21\n",
       "2.0     21\n",
       "0.5     21\n",
       "6.0     20\n",
       "12.0    14\n",
       "9.0      1\n",
       "11.0     1\n",
       "Name: Depth, dtype: int64"
      ]
     },
     "execution_count": 8,
     "metadata": {},
     "output_type": "execute_result"
    }
   ],
   "source": [
    "dp_counts"
   ]
  },
  {
   "cell_type": "code",
   "execution_count": 9,
   "metadata": {},
   "outputs": [
    {
     "data": {
      "text/plain": [
       "0.1     13\n",
       "0.2      7\n",
       "0.3      6\n",
       "7.8      2\n",
       "12.2     2\n",
       "        ..\n",
       "1.6      1\n",
       "1.3      1\n",
       "21.1     1\n",
       "17.8     1\n",
       "6.0      1\n",
       "Name: Salinity, Length: 66, dtype: int64"
      ]
     },
     "execution_count": 9,
     "metadata": {},
     "output_type": "execute_result"
    }
   ],
   "source": [
    "sa_counts"
   ]
  },
  {
   "cell_type": "code",
   "execution_count": 10,
   "metadata": {},
   "outputs": [
    {
     "data": {
      "text/plain": [
       "14.3    18\n",
       "14.0    16\n",
       "14.2     8\n",
       "14.1     8\n",
       "13.7     6\n",
       "14.4     6\n",
       "13.6     6\n",
       "13.0     4\n",
       "13.9     4\n",
       "13.1     3\n",
       "13.8     3\n",
       "14.6     3\n",
       "13.2     3\n",
       "14.9     2\n",
       "13.5     2\n",
       "15.2     1\n",
       "15.1     1\n",
       "13.4     1\n",
       "14.7     1\n",
       "15.8     1\n",
       "14.5     1\n",
       "16.2     1\n",
       "Name: Temperature, dtype: int64"
      ]
     },
     "execution_count": 10,
     "metadata": {},
     "output_type": "execute_result"
    }
   ],
   "source": [
    "tm_counts"
   ]
  },
  {
   "cell_type": "code",
   "execution_count": null,
   "metadata": {},
   "outputs": [],
   "source": []
  }
 ],
 "metadata": {
  "kernelspec": {
   "display_name": "Python 3",
   "language": "python",
   "name": "python3"
  },
  "language_info": {
   "codemirror_mode": {
    "name": "ipython",
    "version": 3
   },
   "file_extension": ".py",
   "mimetype": "text/x-python",
   "name": "python",
   "nbconvert_exporter": "python",
   "pygments_lexer": "ipython3",
   "version": "3.7.3"
  }
 },
 "nbformat": 4,
 "nbformat_minor": 2
}
